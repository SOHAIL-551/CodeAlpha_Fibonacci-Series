{
 "cells": [
  {
   "cell_type": "code",
   "execution_count": 4,
   "id": "f5bae911",
   "metadata": {},
   "outputs": [
    {
     "name": "stdout",
     "output_type": "stream",
     "text": [
      "Enter the number of terms in the Fibonacci series: 11\n",
      "Fibonacci sequence up to 11 terms: [0, 1, 1, 2, 3, 5, 8, 13, 21, 34, 55]\n"
     ]
    }
   ],
   "source": [
    "def fibonacci(n):\n",
    "    fib_sequence = [0, 1]\n",
    "    \n",
    "    for i in range(2, n):\n",
    "        next_fib = fib_sequence[-1] + fib_sequence[-2]\n",
    "        fib_sequence.append(next_fib)\n",
    "    \n",
    "    return fib_sequence\n",
    "\n",
    "n = int(input(\"Enter the number of terms in the Fibonacci series: \"))\n",
    "fib_series = fibonacci(n)\n",
    "print(f\"Fibonacci sequence up to {n} terms: {fib_series}\")\n"
   ]
  }
 ],
 "metadata": {
  "kernelspec": {
   "display_name": "Python 3 (ipykernel)",
   "language": "python",
   "name": "python3"
  },
  "language_info": {
   "codemirror_mode": {
    "name": "ipython",
    "version": 3
   },
   "file_extension": ".py",
   "mimetype": "text/x-python",
   "name": "python",
   "nbconvert_exporter": "python",
   "pygments_lexer": "ipython3",
   "version": "3.9.13"
  }
 },
 "nbformat": 4,
 "nbformat_minor": 5
}
